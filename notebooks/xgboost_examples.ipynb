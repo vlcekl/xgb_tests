{
 "cells": [
  {
   "cell_type": "markdown",
   "metadata": {
    "_uuid": "cdd204371f9f83d15616dab1a94370e1eba0d9b9"
   },
   "source": [
    "# XGBoost\n",
    "\n",
    "Exploring the use of XGBoost and its integration with Scikit-Learn.\n",
    "\n",
    "Some useful links:\n",
    "* [XGBoost documentation](https://xgboost.readthedocs.io/en/latest/index.html)\n",
    "* [Parameters](https://xgboost.readthedocs.io/en/latest/parameter.html)\n",
    "* [Python package](https://xgboost.readthedocs.io/en/latest/python/python_intro.html)\n",
    "* [Python examples](https://github.com/dmlc/xgboost/tree/master/demo/guide-python)\n",
    "* [scikit-learn examples](https://github.com/dmlc/xgboost/blob/master/demo/guide-python/sklearn_examples.py)\n",
    "* [Diabetes dataset](http://scikit-learn.org/stable/datasets/index.html#diabetes-dataset)\n",
    "* [Breast cancer dataset](http://scikit-learn.org/stable/datasets/index.html#breast-cancer-wisconsin-diagnostic-database)\n",
    "\n",
    "Objective is to demonstrate:\n",
    "* regression ✓\n",
    "* binary classification ✓\n",
    "* multiclass classification ✓\n",
    "* cross-validation ✓\n",
    "* hyperparameter searching ✓\n",
    "* feature importance ✓\n",
    "* early stopping ✓\n",
    "* evaluations\n",
    "* plotting ✓"
   ]
  },
  {
   "cell_type": "code",
   "execution_count": 26,
   "metadata": {
    "_uuid": "4ab228c84471891201204c1c70c0e4535ff76db9"
   },
   "outputs": [],
   "source": [
    "import os\n",
    "import numpy as np\n",
    "\n",
    "from scipy.stats import uniform, randint\n",
    "\n",
    "from sklearn.datasets import load_breast_cancer, load_diabetes, load_wine\n",
    "from sklearn.metrics import auc, accuracy_score, confusion_matrix, mean_squared_error, roc_auc_score, roc_curve\n",
    "from sklearn.model_selection import cross_val_score, GridSearchCV, KFold, RandomizedSearchCV, train_test_split"
   ]
  },
  {
   "cell_type": "code",
   "execution_count": 2,
   "metadata": {},
   "outputs": [],
   "source": [
    "%matplotlib inline\n",
    "import matplotlib.pyplot as plt"
   ]
  },
  {
   "cell_type": "code",
   "execution_count": 3,
   "metadata": {},
   "outputs": [],
   "source": [
    "os.environ['KMP_DUPLICATE_LIB_OK']='True'"
   ]
  },
  {
   "cell_type": "code",
   "execution_count": 4,
   "metadata": {},
   "outputs": [],
   "source": [
    "import xgboost as xgb"
   ]
  },
  {
   "cell_type": "code",
   "execution_count": 5,
   "metadata": {
    "_uuid": "63f609040e124bf1ef3b7853daab97c6be268312"
   },
   "outputs": [],
   "source": [
    "def display_scores(scores):\n",
    "    print(\"Scores: {0}\\nMean: {1:.3f}\\nStd: {2:.3f}\".format(scores, np.mean(scores), np.std(scores)))"
   ]
  },
  {
   "cell_type": "code",
   "execution_count": 6,
   "metadata": {
    "_uuid": "6df117f0ea221d2a5fcc3232054d02757d50ec69"
   },
   "outputs": [],
   "source": [
    "def report_best_scores(results, n_top=3):\n",
    "    for i in range(1, n_top + 1):\n",
    "        candidates = np.flatnonzero(results['rank_test_score'] == i)\n",
    "        for candidate in candidates:\n",
    "            print(\"Model with rank: {0}\".format(i))\n",
    "            print(\"Mean validation score: {0:.3f} (std: {1:.3f})\".format(\n",
    "                  results['mean_test_score'][candidate],\n",
    "                  results['std_test_score'][candidate]))\n",
    "            print(\"Parameters: {0}\".format(results['params'][candidate]))\n",
    "            print(\"\")"
   ]
  },
  {
   "cell_type": "markdown",
   "metadata": {
    "_uuid": "37811e5665f546205a98f9d7f77375fce4a1d9b9"
   },
   "source": [
    "## Regression"
   ]
  },
  {
   "cell_type": "code",
   "execution_count": 10,
   "metadata": {
    "_uuid": "e35bb62d5ea4622413443ff43d578e7b2893c309"
   },
   "outputs": [
    {
     "name": "stdout",
     "output_type": "stream",
     "text": [
      "36.271203581682585\n"
     ]
    }
   ],
   "source": [
    "diabetes = load_diabetes()\n",
    "\n",
    "X = diabetes.data\n",
    "y = diabetes.target\n",
    "\n",
    "xgb_model = xgb.XGBRegressor(objective=\"reg:linear\", random_state=42)\n",
    "\n",
    "xgb_model.fit(X, y)\n",
    "\n",
    "y_pred = xgb_model.predict(X)\n",
    "\n",
    "mse=mean_squared_error(y, y_pred)\n",
    "\n",
    "print(np.sqrt(mse))"
   ]
  },
  {
   "cell_type": "code",
   "execution_count": 33,
   "metadata": {
    "_uuid": "ab77663f37ec14488dbf542dc18d119ef726d2f8"
   },
   "outputs": [
    {
     "name": "stdout",
     "output_type": "stream",
     "text": [
      "XGBRegressor(base_score=0.5, booster='gbtree', colsample_bylevel=1,\n",
      "       colsample_bytree=1, gamma=0, learning_rate=0.1, max_delta_step=0,\n",
      "       max_depth=3, min_child_weight=1, missing=None, n_estimators=100,\n",
      "       n_jobs=1, nthread=None, objective='reg:linear', random_state=0,\n",
      "       reg_alpha=0, reg_lambda=1, scale_pos_weight=1, seed=None,\n",
      "       silent=True, subsample=1)\n"
     ]
    }
   ],
   "source": [
    "print(xgb_model)"
   ]
  },
  {
   "cell_type": "markdown",
   "metadata": {
    "_uuid": "3e675a3449f6d7f6fabd8b634195fde22c2cd670"
   },
   "source": [
    "## Binary classification"
   ]
  },
  {
   "cell_type": "code",
   "execution_count": 41,
   "metadata": {
    "_uuid": "21eee83d9068275fac549b80394d399b97edd2c5"
   },
   "outputs": [
    {
     "name": "stdout",
     "output_type": "stream",
     "text": [
      "(188,) (188,)\n",
      "[[ 72   3]\n",
      " [  2 111]]\n",
      "0.9950442477876106\n",
      "0.9950442477876106\n"
     ]
    },
    {
     "data": {
      "text/plain": [
       "(0, 1)"
      ]
     },
     "execution_count": 41,
     "metadata": {},
     "output_type": "execute_result"
    },
    {
     "data": {
      "image/png": "[encoded data removed]",
      "text/plain": [
       "<Figure size 432x288 with 1 Axes>"
      ]
     },
     "metadata": {
      "needs_background": "light"
     },
     "output_type": "display_data"
    }
   ],
   "source": [
    "cancer = load_breast_cancer()\n",
    "\n",
    "X = cancer.data\n",
    "y = cancer.target\n",
    "\n",
    "X_train, X_test, y_train, y_test = train_test_split(X, y, test_size=0.33, random_state=123)\n",
    "\n",
    "xgb_model = xgb.XGBClassifier(objective=\"binary:logistic\", random_state=42)\n",
    "xgb_model.fit(X_train, y_train)\n",
    "\n",
    "y_pred = xgb_model.predict(X_test)\n",
    "\n",
    "y_proba = xgb_model.predict_proba(X_test)\n",
    "print(y_proba[:,1].shape, y_test.shape)\n",
    "print(confusion_matrix(y_test, y_pred))\n",
    "fpr, tpr, thresholds = roc_curve(y_test, y_proba[:,1])\n",
    "print(auc(fpr, tpr))\n",
    "print(roc_auc_score(y_test, y_proba[:,1]))\n",
    "\n",
    "plt.plot(fpr, tpr)\n",
    "plt.xlim(0,1)\n",
    "plt.ylim(0,1)"
   ]
  },
  {
   "cell_type": "markdown",
   "metadata": {
    "_uuid": "1bb24203c37935875a7628974d8748e4386aae80"
   },
   "source": [
    "## Multiclass classification"
   ]
  },
  {
   "cell_type": "code",
   "execution_count": 42,
   "metadata": {
    "_uuid": "84869c7bcb30f512af78b94ea768aa022264038d"
   },
   "outputs": [
    {
     "name": "stdout",
     "output_type": "stream",
     "text": [
      "[[16  0  0]\n",
      " [ 0 21  0]\n",
      " [ 0  1 21]]\n"
     ]
    }
   ],
   "source": [
    "wine = load_wine()\n",
    "\n",
    "X = wine.data\n",
    "y = wine.target\n",
    "\n",
    "X_train, X_test, y_train, y_test = train_test_split(X, y, test_size=0.33, random_state=123)\n",
    "\n",
    "xgb_model = xgb.XGBClassifier(objective=\"multi:softprob\", random_state=42)\n",
    "xgb_model.fit(X_train, y_train)\n",
    "\n",
    "y_pred = xgb_model.predict(X_test)\n",
    "print(confusion_matrix(y_test, y_pred))"
   ]
  },
  {
   "cell_type": "markdown",
   "metadata": {
    "_uuid": "e79c504b5e909694f049100483d957f8f3b83bb7"
   },
   "source": [
    "## Cross validation\n",
    "\n",
    "Cross-validation using `KFold`"
   ]
  },
  {
   "cell_type": "code",
   "execution_count": 43,
   "metadata": {
    "_uuid": "c55ecf8bcfbad2d6f2cfa90ea6f3e594323128d4"
   },
   "outputs": [
    {
     "name": "stdout",
     "output_type": "stream",
     "text": [
      "Scores: [55.30444573 55.59151472 63.44642064 57.82986083 58.71808276]\n",
      "Mean: 58.178\n",
      "Std: 2.937\n"
     ]
    }
   ],
   "source": [
    "diabetes = load_diabetes()\n",
    "\n",
    "X = diabetes.data\n",
    "y = diabetes.target\n",
    "\n",
    "kfold = KFold(n_splits=5, shuffle=True, random_state=42)\n",
    "\n",
    "scores = []\n",
    "\n",
    "for train_index, test_index in kfold.split(X):   \n",
    "    X_train, X_test = X[train_index], X[test_index]\n",
    "    y_train, y_test = y[train_index], y[test_index]\n",
    "\n",
    "    xgb_model = xgb.XGBRegressor(objective=\"reg:linear\")\n",
    "    xgb_model.fit(X_train, y_train)\n",
    "    \n",
    "    y_pred = xgb_model.predict(X_test)\n",
    "    \n",
    "    scores.append(mean_squared_error(y_test, y_pred))\n",
    "    \n",
    "display_scores(np.sqrt(scores))"
   ]
  },
  {
   "cell_type": "markdown",
   "metadata": {
    "_uuid": "352a19638053ea9e7e5993c324169e08d87c7434"
   },
   "source": [
    "Cross-validation using `cross_val_score`"
   ]
  },
  {
   "cell_type": "code",
   "execution_count": 44,
   "metadata": {
    "_uuid": "3aa271d172e729ea57b5c229f9ca60d49ffe7c46"
   },
   "outputs": [
    {
     "name": "stdout",
     "output_type": "stream",
     "text": [
      "Scores: [56.04057166 56.14039793 60.3213523  59.67532995 60.7722925 ]\n",
      "Mean: 58.590\n",
      "Std: 2.071\n"
     ]
    }
   ],
   "source": [
    "xgb_model = xgb.XGBRegressor(objective=\"reg:linear\", random_state=42)\n",
    "\n",
    "scores = cross_val_score(xgb_model, X, y, scoring=\"neg_mean_squared_error\", cv=5)\n",
    "\n",
    "display_scores(np.sqrt(-scores))"
   ]
  },
  {
   "cell_type": "markdown",
   "metadata": {
    "_uuid": "b3830b4750c56d1cdd2e11529998dd36a05b2809"
   },
   "source": [
    "## Hyperparameter searching"
   ]
  },
  {
   "cell_type": "code",
   "execution_count": 65,
   "metadata": {
    "_uuid": "170c2d75670a537b2c06a59b4d31db380c811bb0"
   },
   "outputs": [
    {
     "name": "stdout",
     "output_type": "stream",
     "text": [
      "Fitting 4 folds for each of 200 candidates, totalling 800 fits\n"
     ]
    },
    {
     "name": "stderr",
     "output_type": "stream",
     "text": [
      "[Parallel(n_jobs=-4)]: Using backend LokyBackend with 5 concurrent workers.\n",
      "[Parallel(n_jobs=-4)]: Done 550 tasks      | elapsed:    4.1s\n"
     ]
    },
    {
     "name": "stdout",
     "output_type": "stream",
     "text": [
      "Model with rank: 1\n",
      "Mean validation score: 0.451 (std: 0.094)\n",
      "Parameters: {'colsample_bytree': 0.7779849588562787, 'gamma': 0.22662042341441552, 'learning_rate': 0.03969478533289514, 'max_depth': 2, 'n_estimators': 132, 'subsample': 0.7644826883488745}\n",
      "\n"
     ]
    },
    {
     "name": "stderr",
     "output_type": "stream",
     "text": [
      "[Parallel(n_jobs=-4)]: Done 800 out of 800 | elapsed:    5.4s finished\n",
      "/anaconda3/lib/python3.6/site-packages/sklearn/model_selection/_search.py:841: DeprecationWarning: The default of the `iid` parameter will change from True to False in version 0.22 and will be removed in 0.24. This will change numeric results when test-set sizes are unequal.\n",
      "  DeprecationWarning)\n"
     ]
    }
   ],
   "source": [
    "diabetes = load_diabetes()\n",
    "\n",
    "X = diabetes.data\n",
    "y = diabetes.target\n",
    "\n",
    "X_train, X_test, y_train, y_test = train_test_split(X, y, test_size=0.2, random_state=42)\n",
    "\n",
    "xgb_model = xgb.XGBRegressor()\n",
    "\n",
    "params = {\n",
    "    \"colsample_bytree\": uniform(0.7, 0.3),\n",
    "    \"gamma\": uniform(0, 0.5),\n",
    "    \"learning_rate\": uniform(0.03, 0.3), # default 0.1 \n",
    "    \"max_depth\": randint(2, 6), # default 3\n",
    "    \"n_estimators\": randint(100, 150), # default 100\n",
    "    \"subsample\": uniform(0.6, 0.4)\n",
    "}\n",
    "\n",
    "search = RandomizedSearchCV(xgb_model, param_distributions=params, random_state=42, n_iter=200, cv=4, verbose=1, n_jobs=-4, return_train_score=True)\n",
    "\n",
    "search.fit(X_train, y_train)\n",
    "\n",
    "report_best_scores(search.cv_results_, 1)"
   ]
  },
  {
   "cell_type": "code",
   "execution_count": 66,
   "metadata": {},
   "outputs": [
    {
     "name": "stdout",
     "output_type": "stream",
     "text": [
      "51.53406504895563\n"
     ]
    }
   ],
   "source": [
    "y_pred = search.predict(X_test)\n",
    "\n",
    "mse=mean_squared_error(y_test, y_pred)\n",
    "\n",
    "print(np.sqrt(mse))"
   ]
  },
  {
   "cell_type": "markdown",
   "metadata": {
    "_uuid": "2aca70720de8182d89f49da579201263e184719c"
   },
   "source": [
    "## Early stopping"
   ]
  },
  {
   "cell_type": "markdown",
   "metadata": {
    "_uuid": "3d9ab8c42539d972bd731209cc3afc97cb761573"
   },
   "source": [
    "The number of boosted trees (`n_estimators`) to train is uncapped, rather training continues until validation has not improved in *n* rounds"
   ]
  },
  {
   "cell_type": "code",
   "execution_count": 81,
   "metadata": {
    "_uuid": "8151b8c5e80194c5b3b68b9ccf6b76ab57e6ae73"
   },
   "outputs": [
    {
     "name": "stdout",
     "output_type": "stream",
     "text": [
      "[0]\tvalidation_0-auc:0.955781\n",
      "Will train until validation_0-auc hasn't improved in 10 rounds.\n",
      "[1]\tvalidation_0-auc:0.972322\n",
      "[2]\tvalidation_0-auc:0.96659\n",
      "[3]\tvalidation_0-auc:0.967409\n",
      "[4]\tvalidation_0-auc:0.967409\n",
      "[5]\tvalidation_0-auc:0.967409\n",
      "[6]\tvalidation_0-auc:0.967409\n",
      "[7]\tvalidation_0-auc:0.967409\n",
      "[8]\tvalidation_0-auc:0.967409\n",
      "[9]\tvalidation_0-auc:0.966754\n",
      "[10]\tvalidation_0-auc:0.966754\n",
      "[11]\tvalidation_0-auc:0.966754\n",
      "Stopping. Best iteration:\n",
      "[1]\tvalidation_0-auc:0.972322\n",
      "\n"
     ]
    },
    {
     "data": {
      "text/plain": [
       "0.956140350877193"
      ]
     },
     "execution_count": 81,
     "metadata": {},
     "output_type": "execute_result"
    }
   ],
   "source": [
    "cancer = load_breast_cancer()\n",
    "\n",
    "X = cancer.data\n",
    "y = cancer.target\n",
    "\n",
    "# if more than one evaluation metric are given the last one is used for early stopping\n",
    "xgb_model = xgb.XGBClassifier(objective=\"binary:logistic\", random_state=42, eval_metric=\"auc\")\n",
    "\n",
    "X_train, X_test, y_train, y_test = train_test_split(X, y, test_size=0.2, random_state=42)\n",
    "\n",
    "xgb_model.fit(X_train, y_train, early_stopping_rounds=10, eval_set=[(X_test, y_test)])\n",
    "\n",
    "y_pred = xgb_model.predict(X_test)\n",
    "\n",
    "accuracy_score(y_test, y_pred)"
   ]
  },
  {
   "cell_type": "markdown",
   "metadata": {
    "_uuid": "24fc1730d1f767fd4f8134a9e781d223bcd53b8f"
   },
   "source": [
    "`xgb_model.fit()` will produce a model from the last iteration, not the best one, so to get the optimum model consider retraining over `xgb_model.best_iteration` rounds."
   ]
  },
  {
   "cell_type": "code",
   "execution_count": 82,
   "metadata": {
    "_uuid": "1e36599acc5b51f34822bad84a18078502479d4c"
   },
   "outputs": [
    {
     "name": "stdout",
     "output_type": "stream",
     "text": [
      "best score: 0.972322, best iteration: 1, best ntree limit 2\n"
     ]
    }
   ],
   "source": [
    "print(\"best score: {0}, best iteration: {1}, best ntree limit {2}\".format(xgb_model.best_score, xgb_model.best_iteration, xgb_model.best_ntree_limit))"
   ]
  },
  {
   "cell_type": "markdown",
   "metadata": {
    "_uuid": "3dabdc10ad4747247a347c5e6bf50d0b3072a954"
   },
   "source": [
    "## Evaluations"
   ]
  },
  {
   "cell_type": "code",
   "execution_count": 83,
   "metadata": {
    "_uuid": "77d78fc754fdbdcef1e78713bdb44937c0224474"
   },
   "outputs": [
    {
     "name": "stdout",
     "output_type": "stream",
     "text": [
      "[0]\tvalidation_0-auc:0.964315\tvalidation_0-error:0.048951\tvalidation_0-error@0.6:0.622378\n",
      "[1]\tvalidation_0-auc:0.970662\tvalidation_0-error:0.048951\tvalidation_0-error@0.6:0.622378\n",
      "[2]\tvalidation_0-auc:0.976176\tvalidation_0-error:0.041958\tvalidation_0-error@0.6:0.104895\n",
      "[3]\tvalidation_0-auc:0.976176\tvalidation_0-error:0.041958\tvalidation_0-error@0.6:0.076923\n",
      "[4]\tvalidation_0-auc:0.977216\tvalidation_0-error:0.041958\tvalidation_0-error@0.6:0.062937\n",
      "[5]\tvalidation_0-auc:0.977008\tvalidation_0-error:0.041958\tvalidation_0-error@0.6:0.062937\n",
      "[6]\tvalidation_0-auc:0.97732\tvalidation_0-error:0.041958\tvalidation_0-error@0.6:0.055944\n",
      "[7]\tvalidation_0-auc:0.97732\tvalidation_0-error:0.048951\tvalidation_0-error@0.6:0.048951\n",
      "[8]\tvalidation_0-auc:0.973575\tvalidation_0-error:0.048951\tvalidation_0-error@0.6:0.048951\n",
      "[9]\tvalidation_0-auc:0.973575\tvalidation_0-error:0.048951\tvalidation_0-error@0.6:0.048951\n",
      "[10]\tvalidation_0-auc:0.973575\tvalidation_0-error:0.048951\tvalidation_0-error@0.6:0.048951\n",
      "[11]\tvalidation_0-auc:0.973575\tvalidation_0-error:0.048951\tvalidation_0-error@0.6:0.048951\n",
      "[12]\tvalidation_0-auc:0.973575\tvalidation_0-error:0.041958\tvalidation_0-error@0.6:0.048951\n",
      "[13]\tvalidation_0-auc:0.979089\tvalidation_0-error:0.041958\tvalidation_0-error@0.6:0.048951\n",
      "[14]\tvalidation_0-auc:0.978777\tvalidation_0-error:0.041958\tvalidation_0-error@0.6:0.048951\n",
      "[15]\tvalidation_0-auc:0.986059\tvalidation_0-error:0.041958\tvalidation_0-error@0.6:0.041958\n",
      "[16]\tvalidation_0-auc:0.98866\tvalidation_0-error:0.034965\tvalidation_0-error@0.6:0.048951\n",
      "[17]\tvalidation_0-auc:0.989284\tvalidation_0-error:0.034965\tvalidation_0-error@0.6:0.041958\n",
      "[18]\tvalidation_0-auc:0.989284\tvalidation_0-error:0.034965\tvalidation_0-error@0.6:0.041958\n",
      "[19]\tvalidation_0-auc:0.991261\tvalidation_0-error:0.034965\tvalidation_0-error@0.6:0.041958\n"
     ]
    }
   ],
   "source": [
    "cancer = load_breast_cancer()\n",
    "\n",
    "X = cancer.data\n",
    "y = cancer.target\n",
    "\n",
    "xgb_model = xgb.XGBClassifier(objective=\"binary:logistic\", n_estimators=20, random_state=42, eval_metric=[\"auc\", \"error\", \"error@0.6\"])\n",
    "\n",
    "X_train, X_test, y_train, y_test = train_test_split(X, y, random_state=42)\n",
    "\n",
    "xgb_model.fit(X_train, y_train, eval_set=[(X_test, y_test)])\n",
    "\n",
    "y_pred = xgb_model.predict(X_test)"
   ]
  },
  {
   "cell_type": "markdown",
   "metadata": {
    "_uuid": "1184be0ab9ca5995f68be62b4c3656e4e831a8f2"
   },
   "source": [
    "## Plotting"
   ]
  },
  {
   "cell_type": "code",
   "execution_count": 84,
   "metadata": {},
   "outputs": [],
   "source": [
    "# requires graphviz and python-graphviz conda packages\n",
    "import graphviz"
   ]
  },
  {
   "cell_type": "code",
   "execution_count": 85,
   "metadata": {
    "_uuid": "900a1c9d1c993f789ec11c7db1bbfbc380daea04"
   },
   "outputs": [
    {
     "data": {
      "text/plain": [
       "XGBClassifier(base_score=0.5, booster='gbtree', colsample_bylevel=1,\n",
       "       colsample_bytree=1, eval_metric='auc', gamma=0, learning_rate=0.1,\n",
       "       max_delta_step=0, max_depth=3, min_child_weight=1, missing=None,\n",
       "       n_estimators=100, n_jobs=1, nthread=None,\n",
       "       objective='binary:logistic', random_state=42, reg_alpha=0,\n",
       "       reg_lambda=1, scale_pos_weight=1, seed=None, silent=True,\n",
       "       subsample=1)"
      ]
     },
     "execution_count": 85,
     "metadata": {},
     "output_type": "execute_result"
    }
   ],
   "source": [
    "cancer = load_breast_cancer()\n",
    "\n",
    "X = cancer.data\n",
    "y = cancer.target\n",
    "\n",
    "xgb_model = xgb.XGBClassifier(objective=\"binary:logistic\", random_state=42, eval_metric=\"auc\")\n",
    "\n",
    "X_train, X_test, y_train, y_test = train_test_split(X, y, random_state=42)\n",
    "\n",
    "xgb_model.fit(X_train, y_train, early_stopping_rounds=10, eval_set=[(X_test, y_test)], verbose=False)"
   ]
  },
  {
   "cell_type": "code",
   "execution_count": 90,
   "metadata": {},
   "outputs": [
    {
     "name": "stdout",
     "output_type": "stream",
     "text": [
      "30\n"
     ]
    }
   ],
   "source": [
    "print(len(cancer['feature_names']))"
   ]
  },
  {
   "cell_type": "code",
   "execution_count": 91,
   "metadata": {
    "_uuid": "0fd60874beceed948748809922e8f05134ada2b1"
   },
   "outputs": [
    {
     "data": {
      "image/svg+xml": [
       "<?xml version=\"1.0\" encoding=\"UTF-8\" standalone=\"no\"?>\n",
       "<!DOCTYPE svg PUBLIC \"-//W3C//DTD SVG 1.1//EN\"\n",
       " \"http://www.w3.org/Graphics/SVG/1.1/DTD/svg11.dtd\">\n",
       "<!-- Generated by graphviz version 2.40.1 (20161225.0304)\n",
       " -->\n",
       "<!-- Title: %3 Pages: 1 -->\n",
       "<svg width=\"587pt\" height=\"635pt\"\n",
       " viewBox=\"0.00 0.00 587.00 635.06\" xmlns=\"http://www.w3.org/2000/svg\" xmlns:xlink=\"http://www.w3.org/1999/xlink\">\n",
       "<g id=\"graph0\" class=\"graph\" transform=\"scale(1 1) rotate(0) translate(4 631.0611)\">\n",
       "<title>%3</title>\n",
       "<polygon fill=\"#ffffff\" stroke=\"transparent\" points=\"-4,4 -4,-631.0611 583,-631.0611 583,4 -4,4\"/>\n",
       "<!-- 0 -->\n",
       "<g id=\"node1\" class=\"node\">\n",
       "<title>0</title>\n",
       "<ellipse fill=\"none\" stroke=\"#000000\" cx=\"281.5\" cy=\"-551.0179\" rx=\"76.0865\" ry=\"76.0865\"/>\n",
       "<text text-anchor=\"middle\" x=\"281.5\" y=\"-547.3179\" font-family=\"Times,serif\" font-size=\"14.00\" fill=\"#000000\">f26&lt;0.208200008</text>\n",
       "</g>\n",
       "<!-- 1 -->\n",
       "<g id=\"node2\" class=\"node\">\n",
       "<title>1</title>\n",
       "<ellipse fill=\"none\" stroke=\"#000000\" cx=\"201.5\" cy=\"-352.481\" rx=\"71.4873\" ry=\"71.4873\"/>\n",
       "<text text-anchor=\"middle\" x=\"201.5\" y=\"-348.781\" font-family=\"Times,serif\" font-size=\"14.00\" fill=\"#000000\">f13&lt;42.8250008</text>\n",
       "</g>\n",
       "<!-- 0&#45;&gt;1 -->\n",
       "<g id=\"edge1\" class=\"edge\">\n",
       "<title>0&#45;&gt;1</title>\n",
       "<path fill=\"none\" stroke=\"#0000ff\" d=\"M253.0697,-480.4622C246.2489,-463.5349 238.937,-445.3888 232.0255,-428.2365\"/>\n",
       "<polygon fill=\"#0000ff\" stroke=\"#0000ff\" points=\"235.2166,-426.7909 228.2327,-418.8238 228.7238,-429.4072 235.2166,-426.7909\"/>\n",
       "<text text-anchor=\"middle\" x=\"276.5\" y=\"-445.7746\" font-family=\"Times,serif\" font-size=\"14.00\" fill=\"#000000\">yes, missing</text>\n",
       "</g>\n",
       "<!-- 2 -->\n",
       "<g id=\"node3\" class=\"node\">\n",
       "<title>2</title>\n",
       "<ellipse fill=\"none\" stroke=\"#000000\" cx=\"362.5\" cy=\"-352.481\" rx=\"71.4873\" ry=\"71.4873\"/>\n",
       "<text text-anchor=\"middle\" x=\"362.5\" y=\"-348.781\" font-family=\"Times,serif\" font-size=\"14.00\" fill=\"#000000\">f23&lt;953.700012</text>\n",
       "</g>\n",
       "<!-- 0&#45;&gt;2 -->\n",
       "<g id=\"edge2\" class=\"edge\">\n",
       "<title>0&#45;&gt;2</title>\n",
       "<path fill=\"none\" stroke=\"#ff0000\" d=\"M310.2856,-480.4622C317.1917,-463.5349 324.595,-445.3888 331.5929,-428.2365\"/>\n",
       "<polygon fill=\"#ff0000\" stroke=\"#ff0000\" points=\"334.8962,-429.405 335.4332,-418.8238 328.4149,-426.7607 334.8962,-429.405\"/>\n",
       "<text text-anchor=\"middle\" x=\"332\" y=\"-445.7746\" font-family=\"Times,serif\" font-size=\"14.00\" fill=\"#000000\">no</text>\n",
       "</g>\n",
       "<!-- 3 -->\n",
       "<g id=\"node4\" class=\"node\">\n",
       "<title>3</title>\n",
       "<polygon fill=\"none\" stroke=\"#000000\" points=\"119,-176.4937 0,-176.4937 0,-140.4937 119,-140.4937 119,-176.4937\"/>\n",
       "<text text-anchor=\"middle\" x=\"59.5\" y=\"-154.7937\" font-family=\"Times,serif\" font-size=\"14.00\" fill=\"#000000\">leaf=0.090577662</text>\n",
       "</g>\n",
       "<!-- 1&#45;&gt;3 -->\n",
       "<g id=\"edge3\" class=\"edge\">\n",
       "<title>1&#45;&gt;3</title>\n",
       "<path fill=\"none\" stroke=\"#0000ff\" d=\"M155.4411,-297.7904C146.302,-286.4488 136.932,-274.4573 128.5,-262.9873 109.5716,-237.2391 89.6301,-206.6067 76.0802,-185.1892\"/>\n",
       "<polygon fill=\"#0000ff\" stroke=\"#0000ff\" points=\"78.9738,-183.2158 70.686,-176.6156 73.0489,-186.9436 78.9738,-183.2158\"/>\n",
       "<text text-anchor=\"middle\" x=\"163.5\" y=\"-251.7873\" font-family=\"Times,serif\" font-size=\"14.00\" fill=\"#000000\">yes, missing</text>\n",
       "</g>\n",
       "<!-- 4 -->\n",
       "<g id=\"node5\" class=\"node\">\n",
       "<title>4</title>\n",
       "<polygon fill=\"none\" stroke=\"#000000\" points=\"268,-176.4937 137,-176.4937 137,-140.4937 268,-140.4937 268,-176.4937\"/>\n",
       "<text text-anchor=\"middle\" x=\"202.5\" y=\"-154.7937\" font-family=\"Times,serif\" font-size=\"14.00\" fill=\"#000000\">leaf=&#45;0.0125452532</text>\n",
       "</g>\n",
       "<!-- 1&#45;&gt;4 -->\n",
       "<g id=\"edge4\" class=\"edge\">\n",
       "<title>1&#45;&gt;4</title>\n",
       "<path fill=\"none\" stroke=\"#ff0000\" d=\"M201.8695,-280.7984C202.0382,-248.0807 202.2281,-211.2317 202.355,-186.6125\"/>\n",
       "<polygon fill=\"#ff0000\" stroke=\"#ff0000\" points=\"205.8553,-186.5574 202.407,-176.5394 198.8554,-186.5212 205.8553,-186.5574\"/>\n",
       "<text text-anchor=\"middle\" x=\"210\" y=\"-251.7873\" font-family=\"Times,serif\" font-size=\"14.00\" fill=\"#000000\">no</text>\n",
       "</g>\n",
       "<!-- 5 -->\n",
       "<g id=\"node6\" class=\"node\">\n",
       "<title>5</title>\n",
       "<ellipse fill=\"none\" stroke=\"#000000\" cx=\"358.5\" cy=\"-158.4937\" rx=\"71.4873\" ry=\"71.4873\"/>\n",
       "<text text-anchor=\"middle\" x=\"358.5\" y=\"-154.7937\" font-family=\"Times,serif\" font-size=\"14.00\" fill=\"#000000\">f21&lt;27.4300003</text>\n",
       "</g>\n",
       "<!-- 2&#45;&gt;5 -->\n",
       "<g id=\"edge5\" class=\"edge\">\n",
       "<title>2&#45;&gt;5</title>\n",
       "<path fill=\"none\" stroke=\"#0000ff\" d=\"M361.0219,-280.7984C360.7506,-267.6395 360.4655,-253.8123 360.1885,-240.3812\"/>\n",
       "<polygon fill=\"#0000ff\" stroke=\"#0000ff\" points=\"363.6842,-240.131 359.9787,-230.2053 356.6857,-240.2753 363.6842,-240.131\"/>\n",
       "<text text-anchor=\"middle\" x=\"396.5\" y=\"-251.7873\" font-family=\"Times,serif\" font-size=\"14.00\" fill=\"#000000\">yes, missing</text>\n",
       "</g>\n",
       "<!-- 6 -->\n",
       "<g id=\"node7\" class=\"node\">\n",
       "<title>6</title>\n",
       "<polygon fill=\"none\" stroke=\"#000000\" points=\"579,-176.4937 448,-176.4937 448,-140.4937 579,-140.4937 579,-176.4937\"/>\n",
       "<text text-anchor=\"middle\" x=\"513.5\" y=\"-154.7937\" font-family=\"Times,serif\" font-size=\"14.00\" fill=\"#000000\">leaf=&#45;0.0867691636</text>\n",
       "</g>\n",
       "<!-- 2&#45;&gt;6 -->\n",
       "<g id=\"edge6\" class=\"edge\">\n",
       "<title>2&#45;&gt;6</title>\n",
       "<path fill=\"none\" stroke=\"#ff0000\" d=\"M408.4347,-296.924C417.4933,-285.7563 426.8644,-274.0515 435.5,-262.9873 455.9441,-236.7936 478.5859,-206.2861 494.1847,-185.022\"/>\n",
       "<polygon fill=\"#ff0000\" stroke=\"#ff0000\" points=\"497.1246,-186.9313 500.2069,-176.7947 491.4761,-182.7967 497.1246,-186.9313\"/>\n",
       "<text text-anchor=\"middle\" x=\"454\" y=\"-251.7873\" font-family=\"Times,serif\" font-size=\"14.00\" fill=\"#000000\">no</text>\n",
       "</g>\n",
       "<!-- 7 -->\n",
       "<g id=\"node8\" class=\"node\">\n",
       "<title>7</title>\n",
       "<polygon fill=\"none\" stroke=\"#000000\" points=\"348.5,-36 222.5,-36 222.5,0 348.5,0 348.5,-36\"/>\n",
       "<text text-anchor=\"middle\" x=\"285.5\" y=\"-14.3\" font-family=\"Times,serif\" font-size=\"14.00\" fill=\"#000000\">leaf=0.0644017607</text>\n",
       "</g>\n",
       "<!-- 5&#45;&gt;7 -->\n",
       "<g id=\"edge7\" class=\"edge\">\n",
       "<title>5&#45;&gt;7</title>\n",
       "<path fill=\"none\" stroke=\"#0000ff\" d=\"M325.4174,-94.8239C316.3447,-77.3628 306.9879,-59.3549 299.6157,-45.1666\"/>\n",
       "<polygon fill=\"#0000ff\" stroke=\"#0000ff\" points=\"302.5733,-43.2677 294.8568,-36.0078 296.3618,-46.4953 302.5733,-43.2677\"/>\n",
       "<text text-anchor=\"middle\" x=\"346.5\" y=\"-57.8\" font-family=\"Times,serif\" font-size=\"14.00\" fill=\"#000000\">yes, missing</text>\n",
       "</g>\n",
       "<!-- 8 -->\n",
       "<g id=\"node9\" class=\"node\">\n",
       "<title>8</title>\n",
       "<polygon fill=\"none\" stroke=\"#000000\" points=\"498,-36 367,-36 367,0 498,0 498,-36\"/>\n",
       "<text text-anchor=\"middle\" x=\"432.5\" y=\"-14.3\" font-family=\"Times,serif\" font-size=\"14.00\" fill=\"#000000\">leaf=&#45;0.0561203919</text>\n",
       "</g>\n",
       "<!-- 5&#45;&gt;8 -->\n",
       "<g id=\"edge8\" class=\"edge\">\n",
       "<title>5&#45;&gt;8</title>\n",
       "<path fill=\"none\" stroke=\"#ff0000\" d=\"M391.8199,-95.2338C401.046,-77.7174 410.5804,-59.6157 418.0978,-45.3435\"/>\n",
       "<polygon fill=\"#ff0000\" stroke=\"#ff0000\" points=\"421.3877,-46.6076 422.9513,-36.1288 415.1943,-43.3454 421.3877,-46.6076\"/>\n",
       "<text text-anchor=\"middle\" x=\"421\" y=\"-57.8\" font-family=\"Times,serif\" font-size=\"14.00\" fill=\"#000000\">no</text>\n",
       "</g>\n",
       "</g>\n",
       "</svg>\n"
      ],
      "text/plain": [
       "<graphviz.dot.Digraph at 0x1a213e9080>"
      ]
     },
     "execution_count": 91,
     "metadata": {},
     "output_type": "execute_result"
    },
    {
     "data": {
      "image/png": "[encoded data removed]",
      "text/plain": [
       "<Figure size 432x288 with 1 Axes>"
      ]
     },
     "metadata": {
      "needs_background": "light"
     },
     "output_type": "display_data"
    }
   ],
   "source": [
    "xgb.plot_importance(xgb_model)\n",
    "\n",
    "# plot the output tree via matplotlib, specifying the ordinal number of the target tree\n",
    "# xgb.plot_tree(xgb_model, num_trees=xgb_model.best_iteration)\n",
    "\n",
    "# converts the target tree to a graphviz instance\n",
    "xgb.to_graphviz(xgb_model, num_trees=xgb_model.best_iteration)"
   ]
  },
  {
   "cell_type": "code",
   "execution_count": null,
   "metadata": {},
   "outputs": [],
   "source": []
  }
 ],
 "metadata": {
  "kernelspec": {
   "display_name": "Python 3",
   "language": "python",
   "name": "python3"
  },
  "language_info": {
   "codemirror_mode": {
    "name": "ipython",
    "version": 3
   },
   "file_extension": ".py",
   "mimetype": "text/x-python",
   "name": "python",
   "nbconvert_exporter": "python",
   "pygments_lexer": "ipython3",
   "version": "3.6.8"
  }
 },
 "nbformat": 4,
 "nbformat_minor": 1
}
